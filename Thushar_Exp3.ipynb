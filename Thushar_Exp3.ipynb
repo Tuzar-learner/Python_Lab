{
 "cells": [
  {
   "cell_type": "code",
   "execution_count": 22,
   "metadata": {},
   "outputs": [],
   "source": [
    "def Curved_Area(rad,hgt):\n",
    "    CA = (2 * 3.14 * rad * hgt)\n",
    "    return CA"
   ]
  },
  {
   "cell_type": "code",
   "execution_count": 21,
   "metadata": {},
   "outputs": [],
   "source": [
    "def Total_Surface_Area(rad,hgt):\n",
    "    TP = (2 * 3.14 * rad ** 2) + Curved_Area(rad,hgt)\n",
    "    return TP"
   ]
  },
  {
   "cell_type": "code",
   "execution_count": 25,
   "metadata": {},
   "outputs": [],
   "source": [
    "def Volume(r,h):\n",
    "    vol = 3.14 * r ** 2 * h\n",
    "    return vol"
   ]
  },
  {
   "cell_type": "code",
   "execution_count": 30,
   "metadata": {},
   "outputs": [
    {
     "name": "stdout",
     "output_type": "stream",
     "text": [
      "Enter the radius of the cylinder: 5\n",
      "Enter the height of the cylinder: 6\n",
      "The curved surface area of the cylinder is 188.4\n",
      "The surface area of the cylinder is 345.4\n",
      "The volume of the cylinder is 471.0\n"
     ]
    }
   ],
   "source": [
    "radius = float(input(\"Enter the radius of the cylinder: \"))\n",
    "height = float(input(\"Enter the height of the cylinder: \"))\n",
    "Curved_area=Curved_Area(radius,height)\n",
    "area = Total_Surface_Area(radius,height)\n",
    "volume = Volume(radius,height)\n",
    "print(\"The curved surface area of the cylinder is\",Curved_area)\n",
    "print(\"The surface area of the cylinder is\",area)\n",
    "print(\"The volume of the cylinder is\",volume)"
   ]
  },
  {
   "cell_type": "code",
   "execution_count": null,
   "metadata": {},
   "outputs": [],
   "source": []
  },
  {
   "cell_type": "code",
   "execution_count": null,
   "metadata": {},
   "outputs": [],
   "source": []
  }
 ],
 "metadata": {
  "kernelspec": {
   "display_name": "Python 3",
   "language": "python",
   "name": "python3"
  },
  "language_info": {
   "codemirror_mode": {
    "name": "ipython",
    "version": 3
   },
   "file_extension": ".py",
   "mimetype": "text/x-python",
   "name": "python",
   "nbconvert_exporter": "python",
   "pygments_lexer": "ipython3",
   "version": "3.6.9"
  }
 },
 "nbformat": 4,
 "nbformat_minor": 2
}
