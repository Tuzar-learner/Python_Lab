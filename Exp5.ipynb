{
 "cells": [
  {
   "cell_type": "code",
   "execution_count": 51,
   "metadata": {},
   "outputs": [
    {
     "name": "stdout",
     "output_type": "stream",
     "text": [
      "Enter the email id: 123456@2345.com\n",
      "The email is Valid\n"
     ]
    }
   ],
   "source": [
    "email=input(\"Enter the email id: \")\n",
    "a=0\n",
    "loc=0\n",
    "Valid=False\n",
    "if email.endswith(\".com\") or email.endswith(\".net\") or email.endswith(\".org\") :\n",
    "    for i in range(len(email)):\n",
    "        if email[i]=='@':\n",
    "            a=a+1\n",
    "            loc=i\n",
    "    if email[0].isalnum() and a==1:\n",
    "        Valid=True\n",
    "    else:\n",
    "        Valid=False\n",
    "Valid=email[loc+1].isalnum() \n",
    "if Valid:\n",
    "    print(\"The email is Valid\")\n",
    "else:\n",
    "    print(\"The email is Invalid\")"
   ]
  },
  {
   "cell_type": "code",
   "execution_count": null,
   "metadata": {},
   "outputs": [],
   "source": []
  }
 ],
 "metadata": {
  "kernelspec": {
   "display_name": "Python 3",
   "language": "python",
   "name": "python3"
  },
  "language_info": {
   "codemirror_mode": {
    "name": "ipython",
    "version": 3
   },
   "file_extension": ".py",
   "mimetype": "text/x-python",
   "name": "python",
   "nbconvert_exporter": "python",
   "pygments_lexer": "ipython3",
   "version": "3.6.9"
  }
 },
 "nbformat": 4,
 "nbformat_minor": 2
}
