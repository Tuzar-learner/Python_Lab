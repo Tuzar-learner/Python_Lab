{
 "cells": [
  {
   "cell_type": "code",
   "execution_count": 74,
   "metadata": {},
   "outputs": [
    {
     "name": "stdout",
     "output_type": "stream",
     "text": [
      "Enter the email id: thusharthomas2012@gmail.com\n",
      "The email is Valid\n"
     ]
    }
   ],
   "source": [
    "email=input(\"Enter the email id: \")\n",
    "a=0\n",
    "loc=0\n",
    "Valid=False\n",
    "for i in range(len(email)):\n",
    "    if email[i]=='@':\n",
    "        a=a+1\n",
    "        loc=i\n",
    "if email[0].isalnum() and a==1 and email[loc+1].isalnum():\n",
    "    if email.endswith(\".com\"):\n",
    "        print(\"The email is Valid\")\n",
    "    else:\n",
    "        print(\"The email is Invalid\")\n",
    "else:\n",
    "    print(\"The email is Invalid\")"
   ]
  },
  {
   "cell_type": "code",
   "execution_count": 77,
   "metadata": {},
   "outputs": [
    {
     "name": "stdout",
     "output_type": "stream",
     "text": [
      "Enter the email id: sdafge@yahoo.com\n",
      "Valid email\n"
     ]
    }
   ],
   "source": [
    "email=input(\"Enter the email id: \")\n",
    "arr=email.split('@')\n",
    "if len(arr)!=2:\n",
    "    print(\"Invalid email\")\n",
    "else:\n",
    "    if arr[1]==\"gmail.com\" or arr[1]==\"yahoo.com\":\n",
    "        print(\"Valid email\")\n",
    "    else:\n",
    "        print(\"Invalid email\")"
   ]
  },
  {
   "cell_type": "code",
   "execution_count": null,
   "metadata": {},
   "outputs": [],
   "source": []
  }
 ],
 "metadata": {
  "kernelspec": {
   "display_name": "Python 3",
   "language": "python",
   "name": "python3"
  },
  "language_info": {
   "codemirror_mode": {
    "name": "ipython",
    "version": 3
   },
   "file_extension": ".py",
   "mimetype": "text/x-python",
   "name": "python",
   "nbconvert_exporter": "python",
   "pygments_lexer": "ipython3",
   "version": "3.6.9"
  }
 },
 "nbformat": 4,
 "nbformat_minor": 2
}
