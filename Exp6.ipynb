{
 "cells": [
  {
   "cell_type": "code",
   "execution_count": 28,
   "metadata": {},
   "outputs": [
    {
     "name": "stdout",
     "output_type": "stream",
     "text": [
      "Enter the elements of the list: 1 2 3 4 5\n",
      "The list is [1, 2, 3, 4, 5]\n",
      "Enter the number that you want to remove: 2\n",
      "The new list is [1, 3, 4, 5]\n"
     ]
    }
   ],
   "source": [
    "list1=list(map(int,input(\"Enter the elements of the list: \").split()))\n",
    "print(\"The list is\",list1)\n",
    "num=int(input(\"Enter the number that you want to remove: \"))\n",
    "if num in list1:\n",
    "    list1.remove(num)\n",
    "    print(\"The new list is\",list1)\n",
    "else:\n",
    "    print(\"The number is not present in the list\")"
   ]
  },
  {
   "cell_type": "code",
   "execution_count": 31,
   "metadata": {},
   "outputs": [
    {
     "name": "stdout",
     "output_type": "stream",
     "text": [
      "Enter the elements of the list: 1 2 3 2 1 2 3\n",
      "The list is [1, 2, 3, 2, 1, 2, 3]\n",
      "Enter the number that you want to remove: 1\n",
      "The new list is [2, 3, 2, 2, 3]\n"
     ]
    }
   ],
   "source": [
    "list1=list(map(int,input(\"Enter the elements of the list: \").split()))\n",
    "list2=[]\n",
    "print(\"The list is\",list1)\n",
    "num=int(input(\"Enter the number that you want to remove: \"))\n",
    "if num in list1:\n",
    "    for i in range(len(list1)):\n",
    "        if list1[i]!=num:\n",
    "              list2.append(list1[i])\n",
    "    list1=list2\n",
    "    print(\"The new list is\",list1)\n",
    "else:\n",
    "    print(\"The number is not present in the list\")"
   ]
  },
  {
   "cell_type": "code",
   "execution_count": null,
   "metadata": {},
   "outputs": [],
   "source": []
  }
 ],
 "metadata": {
  "kernelspec": {
   "display_name": "Python 3",
   "language": "python",
   "name": "python3"
  },
  "language_info": {
   "codemirror_mode": {
    "name": "ipython",
    "version": 3
   },
   "file_extension": ".py",
   "mimetype": "text/x-python",
   "name": "python",
   "nbconvert_exporter": "python",
   "pygments_lexer": "ipython3",
   "version": "3.6.9"
  }
 },
 "nbformat": 4,
 "nbformat_minor": 2
}
