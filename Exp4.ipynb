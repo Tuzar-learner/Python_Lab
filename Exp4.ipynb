{
 "cells": [
  {
   "cell_type": "code",
   "execution_count": 13,
   "metadata": {},
   "outputs": [
    {
     "name": "stdout",
     "output_type": "stream",
     "text": [
      "Enter the sentence: My name is abcd\n",
      "Enter the word that you want to replace: abcd\n",
      "Enter the new word: Thushar\n",
      "New sentence:  My name is Thushar \n"
     ]
    }
   ],
   "source": [
    "sentence=input(\"Enter the sentence: \")\n",
    "word=input(\"Enter the word that you want to replace: \")\n",
    "new_word=input(\"Enter the new word: \")\n",
    "arr=sentence.split()\n",
    "for i in range(len(arr)):\n",
    "    if arr[i]==word:\n",
    "        arr[i]=new_word\n",
    "new_sentence=\"\"\n",
    "for i in range(len(arr)):\n",
    "    new_sentence=new_sentence+arr[i]+' '\n",
    "print(\"New sentence: \",new_sentence)"
   ]
  },
  {
   "cell_type": "code",
   "execution_count": null,
   "metadata": {},
   "outputs": [],
   "source": []
  }
 ],
 "metadata": {
  "kernelspec": {
   "display_name": "Python 3",
   "language": "python",
   "name": "python3"
  },
  "language_info": {
   "codemirror_mode": {
    "name": "ipython",
    "version": 3
   },
   "file_extension": ".py",
   "mimetype": "text/x-python",
   "name": "python",
   "nbconvert_exporter": "python",
   "pygments_lexer": "ipython3",
   "version": "3.6.9"
  }
 },
 "nbformat": 4,
 "nbformat_minor": 2
}
