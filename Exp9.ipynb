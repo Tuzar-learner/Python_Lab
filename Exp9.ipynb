{
 "cells": [
  {
   "cell_type": "code",
   "execution_count": 7,
   "metadata": {},
   "outputs": [
    {
     "name": "stdout",
     "output_type": "stream",
     "text": [
      "Enter the number of book you want to add: 3\n",
      "Enter the name of book 1 : \n",
      "b1\n",
      "Enter the stock of the book: 5\n",
      "Enter the name of book 2 : \n",
      "b2\n",
      "Enter the stock of the book: 9\n",
      "Enter the name of book 3 : \n",
      "b3\n",
      "Enter the stock of the book: 4\n",
      "Book: {'b1': 5, 'b2': 9, 'b3': 4}\n",
      "Enter the name of the book that you want to update the stock: b1\n",
      "Enter the updated stock: 6\n",
      "Book: {'b1': 6, 'b2': 9, 'b3': 4}\n",
      "Enter the name of the book that you want to remove: b2\n",
      "Book: {'b1': 6, 'b3': 4}\n"
     ]
    }
   ],
   "source": [
    "book={}\n",
    "num=int(input(\"Enter the number of book you want to add: \"))\n",
    "for i in range(num):\n",
    "    print(\"Enter the name of book\",i+1,\": \")\n",
    "    name=input()\n",
    "    stock=int(input(\"Enter the stock of the book: \"))\n",
    "    book.update({name:stock}) \n",
    "print(\"Book:\",book)\n",
    "up_name=input(\"Enter the name of the book that you want to update the stock: \")\n",
    "if up_name in book:\n",
    "    up_stock=int(input(\"Enter the updated stock: \"))\n",
    "    book.update({up_name:up_stock})\n",
    "else:\n",
    "    print(\"Book not found\")\n",
    "print(\"Book:\",book)\n",
    "del_name=input(\"Enter the name of the book that you want to remove: \")\n",
    "if del_name in book:\n",
    "    book.pop(del_name)\n",
    "else:\n",
    "    print(\"Book not found\")\n",
    "print(\"Book:\",book)"
   ]
  },
  {
   "cell_type": "code",
   "execution_count": null,
   "metadata": {},
   "outputs": [],
   "source": []
  },
  {
   "cell_type": "code",
   "execution_count": null,
   "metadata": {},
   "outputs": [],
   "source": []
  }
 ],
 "metadata": {
  "kernelspec": {
   "display_name": "Python 3",
   "language": "python",
   "name": "python3"
  },
  "language_info": {
   "codemirror_mode": {
    "name": "ipython",
    "version": 3
   },
   "file_extension": ".py",
   "mimetype": "text/x-python",
   "name": "python",
   "nbconvert_exporter": "python",
   "pygments_lexer": "ipython3",
   "version": "3.6.9"
  }
 },
 "nbformat": 4,
 "nbformat_minor": 2
}
