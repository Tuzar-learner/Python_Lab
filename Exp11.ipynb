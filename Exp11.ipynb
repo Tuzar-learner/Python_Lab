{
 "cells": [
  {
   "cell_type": "code",
   "execution_count": 2,
   "metadata": {},
   "outputs": [
    {
     "name": "stdout",
     "output_type": "stream",
     "text": [
      "Uppercase= 5\n",
      "Lowercase= 28\n",
      "Special= 1\n",
      "Words= 9\n",
      "No.of sentences: 3\n"
     ]
    }
   ],
   "source": [
    "file =open('Text','r')\n",
    "E=[]\n",
    "upper=lower=space=special=sen=0\n",
    "for line in file:\n",
    "    sen=sen+1\n",
    "    for word in line.split():\n",
    "        space=space+1\n",
    "        E.append(word)\n",
    "for x in E:\n",
    "    for y in x:\n",
    "        if(y.isupper()):\n",
    "            upper=upper+1\n",
    "        elif(y.islower()):\n",
    "            lower=lower+1\n",
    "        else:\n",
    "            special=special+1\n",
    "print(\"Uppercase=\",upper)\n",
    "print(\"Lowercase=\",lower)\n",
    "print(\"Special=\",special)\n",
    "print(\"Words=\",space)\n",
    "print(\"No.of sentences:\",sen)"
   ]
  },
  {
   "cell_type": "code",
   "execution_count": null,
   "metadata": {},
   "outputs": [],
   "source": []
  }
 ],
 "metadata": {
  "kernelspec": {
   "display_name": "Python 3",
   "language": "python",
   "name": "python3"
  },
  "language_info": {
   "codemirror_mode": {
    "name": "ipython",
    "version": 3
   },
   "file_extension": ".py",
   "mimetype": "text/x-python",
   "name": "python",
   "nbconvert_exporter": "python",
   "pygments_lexer": "ipython3",
   "version": "3.6.9"
  }
 },
 "nbformat": 4,
 "nbformat_minor": 2
}
