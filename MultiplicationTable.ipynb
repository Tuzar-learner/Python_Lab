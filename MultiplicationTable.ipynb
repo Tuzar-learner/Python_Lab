{
 "cells": [
  {
   "cell_type": "code",
   "execution_count": 20,
   "metadata": {},
   "outputs": [
    {
     "name": "stdout",
     "output_type": "stream",
     "text": [
      "Enter the number to be printed as multiplication table: 65\n",
      "1 X 65 = 65\n",
      "2 X 65 = 130\n",
      "3 X 65 = 195\n",
      "4 X 65 = 260\n",
      "5 X 65 = 325\n",
      "6 X 65 = 390\n",
      "7 X 65 = 455\n",
      "8 X 65 = 520\n",
      "9 X 65 = 585\n",
      "10 X 65 = 650\n",
      "11 X 65 = 715\n",
      "12 X 65 = 780\n",
      "13 X 65 = 845\n",
      "14 X 65 = 910\n",
      "15 X 65 = 975\n",
      "16 X 65 = 1040\n",
      "17 X 65 = 1105\n",
      "18 X 65 = 1170\n",
      "19 X 65 = 1235\n",
      "20 X 65 = 1300\n",
      "21 X 65 = 1365\n",
      "22 X 65 = 1430\n",
      "23 X 65 = 1495\n",
      "24 X 65 = 1560\n",
      "25 X 65 = 1625\n",
      "26 X 65 = 1690\n",
      "27 X 65 = 1755\n",
      "28 X 65 = 1820\n",
      "29 X 65 = 1885\n",
      "30 X 65 = 1950\n",
      "31 X 65 = 2015\n",
      "32 X 65 = 2080\n",
      "33 X 65 = 2145\n",
      "34 X 65 = 2210\n",
      "35 X 65 = 2275\n",
      "36 X 65 = 2340\n",
      "37 X 65 = 2405\n",
      "38 X 65 = 2470\n",
      "39 X 65 = 2535\n",
      "40 X 65 = 2600\n",
      "41 X 65 = 2665\n",
      "42 X 65 = 2730\n",
      "43 X 65 = 2795\n",
      "44 X 65 = 2860\n",
      "45 X 65 = 2925\n",
      "46 X 65 = 2990\n",
      "47 X 65 = 3055\n",
      "48 X 65 = 3120\n",
      "49 X 65 = 3185\n",
      "50 X 65 = 3250\n",
      "51 X 65 = 3315\n",
      "52 X 65 = 3380\n",
      "53 X 65 = 3445\n",
      "54 X 65 = 3510\n",
      "55 X 65 = 3575\n",
      "56 X 65 = 3640\n",
      "57 X 65 = 3705\n",
      "58 X 65 = 3770\n",
      "59 X 65 = 3835\n",
      "60 X 65 = 3900\n",
      "61 X 65 = 3965\n",
      "62 X 65 = 4030\n",
      "63 X 65 = 4095\n",
      "64 X 65 = 4160\n",
      "65 X 65 = 4225\n"
     ]
    }
   ],
   "source": [
    "n = int(input(\"Enter the number to be printed as multiplication table: \"))\n",
    "for i in range(1,n+1):\n",
    "    print(i,'X',n,'=',(n*i))"
   ]
  },
  {
   "cell_type": "code",
   "execution_count": 19,
   "metadata": {},
   "outputs": [
    {
     "name": "stdout",
     "output_type": "stream",
     "text": [
      "Enter the number to be printed as multiplication table: 6\n",
      "1 X 6 = 6\n",
      "2 X 6 = 12\n",
      "3 X 6 = 18\n",
      "4 X 6 = 24\n",
      "5 X 6 = 30\n",
      "6 X 6 = 36\n"
     ]
    }
   ],
   "source": [
    "n = int(input(\"Enter the number to be printed as multiplication table: \"))\n",
    "i=1\n",
    "while i<=n:\n",
    "    print(i,'X',n,'=',(n*i))\n",
    "    i=i+1"
   ]
  },
  {
   "cell_type": "code",
   "execution_count": null,
   "metadata": {},
   "outputs": [],
   "source": []
  },
  {
   "cell_type": "code",
   "execution_count": null,
   "metadata": {},
   "outputs": [],
   "source": []
  }
 ],
 "metadata": {
  "kernelspec": {
   "display_name": "Python 3",
   "language": "python",
   "name": "python3"
  },
  "language_info": {
   "codemirror_mode": {
    "name": "ipython",
    "version": 3
   },
   "file_extension": ".py",
   "mimetype": "text/x-python",
   "name": "python",
   "nbconvert_exporter": "python",
   "pygments_lexer": "ipython3",
   "version": "3.6.9"
  }
 },
 "nbformat": 4,
 "nbformat_minor": 2
}
