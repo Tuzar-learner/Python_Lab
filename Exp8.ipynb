{
 "cells": [
  {
   "cell_type": "code",
   "execution_count": 6,
   "metadata": {},
   "outputs": [
    {
     "name": "stdout",
     "output_type": "stream",
     "text": [
      "Enter the tuple:1 2 3 4 5 6 7 8\n",
      "The tuple is: (1, 2, 3, 4, 5, 6, 7, 8)\n",
      "The odd elements in the tuple are: (1, 3, 5, 7)\n",
      "The even elements in the tuple are: (2, 4, 6, 8)\n"
     ]
    }
   ],
   "source": [
    "a = tuple(map(int,input(\"Enter the tuple:\").split()))\n",
    "print(\"The tuple is:\",a)\n",
    "even = []\n",
    "odd = []\n",
    "for i in range(len(a)):\n",
    "    if a[i]%2==0:\n",
    "        even.append(a[i])\n",
    "    else:\n",
    "        odd.append(a[i])\n",
    "even = tuple(even)\n",
    "odd = tuple(odd)\n",
    "print(\"The odd elements in the tuple are:\",odd)\n",
    "print(\"The even elements in the tuple are:\",even)"
   ]
  },
  {
   "cell_type": "code",
   "execution_count": null,
   "metadata": {},
   "outputs": [],
   "source": []
  }
 ],
 "metadata": {
  "kernelspec": {
   "display_name": "Python 3",
   "language": "python",
   "name": "python3"
  },
  "language_info": {
   "codemirror_mode": {
    "name": "ipython",
    "version": 3
   },
   "file_extension": ".py",
   "mimetype": "text/x-python",
   "name": "python",
   "nbconvert_exporter": "python",
   "pygments_lexer": "ipython3",
   "version": "3.6.9"
  }
 },
 "nbformat": 4,
 "nbformat_minor": 2
}
