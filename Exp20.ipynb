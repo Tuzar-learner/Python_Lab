{
 "cells": [
  {
   "cell_type": "code",
   "execution_count": 14,
   "metadata": {},
   "outputs": [
    {
     "data": {
      "text/plain": [
       "6"
      ]
     },
     "execution_count": 14,
     "metadata": {},
     "output_type": "execute_result"
    }
   ],
   "source": [
    "import random as rn\n",
    "rn.randint(1,10)"
   ]
  },
  {
   "cell_type": "code",
   "execution_count": 62,
   "metadata": {},
   "outputs": [
    {
     "name": "stdout",
     "output_type": "stream",
     "text": [
      "Enter the number of tosses: 100\n",
      "Number of heads is 53\n",
      "Probability of heads is 0.53\n"
     ]
    }
   ],
   "source": [
    "import random as rn\n",
    "def coin_toss(tosses):\n",
    "    heads = 0\n",
    "    for i in range(tosses):\n",
    "        if rn.randint(0,1) == 1:\n",
    "            heads = heads + 1\n",
    "    print(\"Number of heads is\",heads)\n",
    "    print(\"Probability of heads is\",heads/tosses)\n",
    "tosses = int(input(\"Enter the number of tosses: \"))\n",
    "coin_toss(tosses)"
   ]
  },
  {
   "cell_type": "code",
   "execution_count": 38,
   "metadata": {},
   "outputs": [
    {
     "name": "stdout",
     "output_type": "stream",
     "text": [
      "Enter the number of tosses: 5\n",
      "\n",
      "The outcome of the tosses are\n",
      "Heads Heads Tails Tails Heads \n",
      "\n",
      "Number of heads is 3\n",
      "Probability of heads is 0.6\n"
     ]
    }
   ],
   "source": [
    "import random as rn\n",
    "heads = 0\n",
    "out = []\n",
    "tosses = int(input(\"Enter the number of tosses: \"))\n",
    "for i in range(tosses):\n",
    "    out.append(rn.randint(0,1))\n",
    "    if out[i]== 1:\n",
    "        heads = heads + 1\n",
    "print(\"\\nThe outcome of the tosses are\")\n",
    "for i in range(len(out)):\n",
    "    if out[i] == 0:\n",
    "        print(\"Tails\",end=' ')\n",
    "    else:\n",
    "        print(\"Heads\",end=' ')\n",
    "print(\"\\n\\nNumber of heads is\",heads)\n",
    "print(\"Probability of heads is\",heads/tosses)"
   ]
  },
  {
   "cell_type": "code",
   "execution_count": null,
   "metadata": {},
   "outputs": [],
   "source": []
  }
 ],
 "metadata": {
  "kernelspec": {
   "display_name": "Python 3",
   "language": "python",
   "name": "python3"
  },
  "language_info": {
   "codemirror_mode": {
    "name": "ipython",
    "version": 3
   },
   "file_extension": ".py",
   "mimetype": "text/x-python",
   "name": "python",
   "nbconvert_exporter": "python",
   "pygments_lexer": "ipython3",
   "version": "3.6.9"
  }
 },
 "nbformat": 4,
 "nbformat_minor": 2
}
