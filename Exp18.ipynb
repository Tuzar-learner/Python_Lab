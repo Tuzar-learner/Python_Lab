{
 "cells": [
  {
   "cell_type": "markdown",
   "metadata": {},
   "source": [
    "Program to implement Chi square test"
   ]
  },
  {
   "cell_type": "code",
   "execution_count": 33,
   "metadata": {},
   "outputs": [
    {
     "name": "stdout",
     "output_type": "stream",
     "text": [
      "Enter the number of observations: 5\n",
      "Enter the value of observation 1 : \n",
      "50\n",
      "Enter the value of observation 2 : \n",
      "58\n",
      "Enter the value of observation 3 : \n",
      "47\n",
      "Enter the value of observation 4 : \n",
      "48\n",
      "Enter the value of observation 5 : \n",
      "67\n",
      "Enter the expected value: 50\n",
      "\n",
      "No.\tObservation\tExpected value\tObs - Exp\t(Obs - Exp)²\t(Obs - Exp)² / Exp\n",
      "1 \t 50 \t\t 50 \t\t 0 \t\t 0 \t\t 0.0\n",
      "2 \t 58 \t\t 50 \t\t 8 \t\t 64 \t\t 1.28\n",
      "3 \t 47 \t\t 50 \t\t -3 \t\t 9 \t\t 0.18\n",
      "4 \t 48 \t\t 50 \t\t -2 \t\t 4 \t\t 0.08\n",
      "5 \t 67 \t\t 50 \t\t 17 \t\t 289 \t\t 5.78\n",
      "\n",
      "The value of chi square is 7.32\n"
     ]
    }
   ],
   "source": [
    "def chi(obs,exp):\n",
    "    sum = 0\n",
    "    for i in range(len(obs)):\n",
    "        sum = sum + pow(obs[i]-exp,2) / exp\n",
    "    return sum\n",
    "n = int(input(\"Enter the number of observations: \"))\n",
    "obs = []\n",
    "for i in range(n):\n",
    "    print(\"Enter the value of observation\",i+1,\": \")\n",
    "    val = int(input())\n",
    "    obs.append(val)\n",
    "exp = int(input(\"Enter the expected value: \"))\n",
    "print(\"\\nNo.\\tObservation\\tExpected value\\tObs - Exp\\t(Obs - Exp)²\\t(Obs - Exp)² / Exp\")\n",
    "for i in range(len(obs)):\n",
    "    print(i+1,\"\\t\",obs[i],\"\\t\\t\",exp,\"\\t\\t\",obs[i]-exp,\"\\t\\t\",pow(obs[i]-exp,2),\"\\t\\t\",pow(obs[i]-exp,2) / exp)\n",
    "print(\"\\nThe value of chi square is\",chi(obs,exp))"
   ]
  },
  {
   "cell_type": "code",
   "execution_count": 29,
   "metadata": {},
   "outputs": [
    {
     "data": {
      "text/plain": [
       "Power_divergenceResult(statistic=7.3200000000000003, pvalue=0.11991350930483732)"
      ]
     },
     "execution_count": 29,
     "metadata": {},
     "output_type": "execute_result"
    }
   ],
   "source": [
    "import scipy\n",
    "from scipy import stats\n",
    "stats.chisquare(obs,exp)"
   ]
  },
  {
   "cell_type": "code",
   "execution_count": 68,
   "metadata": {},
   "outputs": [
    {
     "name": "stdout",
     "output_type": "stream",
     "text": [
      "Female Observed value: [50.8861, 49.8684, 50.3772, 49.8684]\n",
      "Male Observed value: [49.1139, 48.1316, 48.6228, 48.1316]\n",
      "Female Expected value: [50.8861, 49.8684, 50.3772, 49.8684]\n",
      "Male Expected value: [49.1139, 48.1316, 48.6228, 48.1316]\n",
      "All observations: [60, 54, 46, 41, 40, 44, 53, 57]\n",
      "All Expectations: [50.8861, 49.8684, 50.3772, 49.8684, 49.1139, 48.1316, 48.6228, 48.1316]\n",
      "Chi Square value: 8.0061\n",
      "Verification: 8.0061\n",
      "We accept Null Hypothesis, since 0.332059740761  > 0.05\n"
     ]
    }
   ],
   "source": [
    "import scipy.stats as stats\n",
    "female = [60, 54, 46, 41]\n",
    "male = [40, 44, 53, 57]\n",
    "rowTotal = [201, 194]\n",
    "colTotal = [100, 98, 99, 98]\n",
    "female_col = [] \n",
    "male_col = []\n",
    "female_Ex = []\n",
    "male_Ex = []\n",
    "for i in colTotal:\n",
    "    female_col.append(round(i * rowTotal[0]/395, 4))\n",
    "    male_col.append(round(i * rowTotal[1]/395, 4))\n",
    "print(\"Female Observed value:\",female_col)\n",
    "print(\"Male Observed value:\",male_col)\n",
    "print(\"Female Expected value:\",female_col)\n",
    "print(\"Male Expected value:\",male_col)\n",
    "\n",
    "Obs = female +  male\n",
    "Exp = female_col + male_col\n",
    "print(\"All observations:\",Obs)\n",
    "print(\"All Expectations:\",Exp)\n",
    "Sum = 0\n",
    "for i in range(len(Obs)):\n",
    "    Sum += (pow((Obs[i] - Exp[i]), 2) / Exp[i])\n",
    "res = stats.chisquare(Obs, Exp)\n",
    "print(\"Chi Square value:\",round(res[0], 4))\n",
    "print(\"Verification:\",round(Sum,4))\n",
    "if res[1] > 0.05: \n",
    "    print(\"We accept Null Hypothesis, since\",res[1],\" > 0.05\")\n",
    "else:\n",
    "    print(\"We reject Null Hypothesis\")"
   ]
  },
  {
   "cell_type": "code",
   "execution_count": null,
   "metadata": {},
   "outputs": [],
   "source": []
  }
 ],
 "metadata": {
  "kernelspec": {
   "display_name": "Python 3",
   "language": "python",
   "name": "python3"
  },
  "language_info": {
   "codemirror_mode": {
    "name": "ipython",
    "version": 3
   },
   "file_extension": ".py",
   "mimetype": "text/x-python",
   "name": "python",
   "nbconvert_exporter": "python",
   "pygments_lexer": "ipython3",
   "version": "3.6.9"
  }
 },
 "nbformat": 4,
 "nbformat_minor": 2
}
