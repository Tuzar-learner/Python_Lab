{
 "cells": [
  {
   "cell_type": "code",
   "execution_count": 22,
   "metadata": {},
   "outputs": [
    {
     "name": "stdout",
     "output_type": "stream",
     "text": [
      "prime numbers: [23, 43, 1, 0]\n"
     ]
    }
   ],
   "source": [
    "file =open('Numbers','r')\n",
    "f=0\n",
    "E=[]\n",
    "for i in file:\n",
    "    a=i.split(\" \")\n",
    "for i in a:\n",
    "    x=int(i)\n",
    "    r=int(x+1/2)\n",
    "    for y in range(2,r):\n",
    "        if(x%y==0):\n",
    "            f=1\n",
    "            break\n",
    "    if(f==0):\n",
    "        E.append(x)  \n",
    "    f=0\n",
    "print(\"prime numbers:\",E)"
   ]
  },
  {
   "cell_type": "code",
   "execution_count": 8,
   "metadata": {},
   "outputs": [
    {
     "name": "stdout",
     "output_type": "stream",
     "text": [
      "23 556 85 24 898 65 98 56 43 6 8 1 0 98\n",
      "\n"
     ]
    }
   ],
   "source": [
    "file = open('Numbers', 'r')\n",
    "for each in file:\n",
    "    print (each)"
   ]
  },
  {
   "cell_type": "code",
   "execution_count": null,
   "metadata": {},
   "outputs": [],
   "source": []
  },
  {
   "cell_type": "code",
   "execution_count": null,
   "metadata": {},
   "outputs": [],
   "source": []
  },
  {
   "cell_type": "code",
   "execution_count": null,
   "metadata": {},
   "outputs": [],
   "source": []
  }
 ],
 "metadata": {
  "kernelspec": {
   "display_name": "Python 3",
   "language": "python",
   "name": "python3"
  },
  "language_info": {
   "codemirror_mode": {
    "name": "ipython",
    "version": 3
   },
   "file_extension": ".py",
   "mimetype": "text/x-python",
   "name": "python",
   "nbconvert_exporter": "python",
   "pygments_lexer": "ipython3",
   "version": "3.6.9"
  }
 },
 "nbformat": 4,
 "nbformat_minor": 2
}
